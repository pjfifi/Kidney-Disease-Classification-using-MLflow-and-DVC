{
 "cells": [
  {
   "cell_type": "code",
   "execution_count": 2,
   "id": "18dba69b",
   "metadata": {},
   "outputs": [
    {
     "ename": "ModuleNotFoundError",
     "evalue": "No module named 'configbox'",
     "output_type": "error",
     "traceback": [
      "\u001b[31m---------------------------------------------------------------------------\u001b[39m",
      "\u001b[31mModuleNotFoundError\u001b[39m                       Traceback (most recent call last)",
      "\u001b[36mCell\u001b[39m\u001b[36m \u001b[39m\u001b[32mIn[2]\u001b[39m\u001b[32m, line 3\u001b[39m\n\u001b[32m      1\u001b[39m \u001b[38;5;66;03m# Configbox\u001b[39;00m\n\u001b[32m----> \u001b[39m\u001b[32m3\u001b[39m \u001b[38;5;28;01mimport\u001b[39;00m\u001b[38;5;250m \u001b[39m\u001b[34;01mconfigbox\u001b[39;00m\n\u001b[32m      4\u001b[39m \u001b[38;5;28;01mfrom\u001b[39;00m\u001b[38;5;250m \u001b[39m\u001b[34;01mensure\u001b[39;00m\u001b[38;5;250m \u001b[39m\u001b[38;5;28;01mimport\u001b[39;00m ensure_annotations\n",
      "\u001b[31mModuleNotFoundError\u001b[39m: No module named 'configbox'"
     ]
    }
   ],
   "source": [
    "# Configbox\n",
    "\n",
    "import configbox\n",
    "from ensure import ensure_annotations"
   ]
  },
  {
   "cell_type": "code",
   "execution_count": null,
   "id": "a8e9defb",
   "metadata": {},
   "outputs": [],
   "source": [
    "# ennsure annotation\n",
    "\n",
    "def get_predict(x:int, y:int) -> int:\n",
    "    \"\"\"\n",
    "    Function to predict the sum of two integers.\n",
    "    \n",
    "    Args:\n",
    "        x (int): First integer.\n",
    "        y (int): Second integer.\n",
    "    \n",
    "    Returns:\n",
    "        int: The sum of x and y.\n",
    "    \"\"\"\n",
    "    return x + y\n",
    "configbox(get_predict, \"predict\", \"x\", \"y\")"
   ]
  }
 ],
 "metadata": {
  "kernelspec": {
   "display_name": ".venv",
   "language": "python",
   "name": "python3"
  },
  "language_info": {
   "codemirror_mode": {
    "name": "ipython",
    "version": 3
   },
   "file_extension": ".py",
   "mimetype": "text/x-python",
   "name": "python",
   "nbconvert_exporter": "python",
   "pygments_lexer": "ipython3",
   "version": "3.12.2"
  }
 },
 "nbformat": 4,
 "nbformat_minor": 5
}
